{
 "cells": [
  {
   "cell_type": "code",
   "execution_count": 1,
   "id": "d310db29",
   "metadata": {},
   "outputs": [],
   "source": [
    "import geemap\n",
    "import numpy as np\n",
    "import ee\n",
    "ee.Initialize()\n",
    "import matplotlib.pyplot as plt #to plot the graph we have imported matplotlib.pyplot library"
   ]
  },
  {
   "cell_type": "code",
   "execution_count": 2,
   "id": "cb1d6637",
   "metadata": {},
   "outputs": [],
   "source": [
    "#Given below are the codes codes of some satellites.\n",
    "#LANDSAT:\n",
    "#Landsat Satellite data is divided into two collections:\n",
    "#Collection 1:\n",
    "#Collection 1 contains all Level-1 data acquired since 1972 to present from Landsat 1-8.\n",
    "\n",
    "#Collection 2:\n",
    "#Collection 2 is the substantial improvement in the absolute geolocation accuracy of the global ground reference dataset used in the Landsat Level-1 data processing flow. Additionally, Collection 2 includes updated global digital elevation modeling sources and calibration and validation updates as well as global Level-2 surface reflectance and surface temperature scene-based products from 1982 to present.\n",
    "\n",
    "#In a particular collection, Landsat data is produced in 3 tiers (categories) for each satellite:\n",
    "#Tier 1 (T1) - Data that meets geometric and radiometric quality requirements\n",
    "#Tier 2 (T2) - Data that doesn't meet the Tier 1 requirements\n",
    "#Real Time (RT) - Data that hasn't yet been evaluated (it takes as much as a month).\n",
    "\n",
    "#Typical code of a landsat satellite:\n",
    "#        LANDSAT/(Satellite)/(collection)/(Tier)\n",
    "\n",
    "#FOLLOWING ARE THE CODES FOR DIFFERENT LANDSAT:\n",
    "#            COLLECTION 1:\n",
    "#1.\tLandsat 1 MSS [Dataset availability: 1972-07-23 - 1978-01-07]\n",
    "#•\tTier 1: LANDSAT/LM01/C01/T1\n",
    "#•\tTier 2: LANDSAT/LM01/C01/T2\n",
    "\n",
    "#2.\tLandsat 2 MSS [Dataset availability: 1975-01-22 - 1982-02-26]\n",
    "#•\tTier 1: LANDSAT/LM02/C01/T1\n",
    "#•\tTier 2: LANDSAT/LM02/C01/T2\n",
    "\n",
    "#3.\tLandsat 3 MSS [Dataset availability: 1978-03-05 - 1983-03-31]\n",
    "#•\tTier 1: LANDSAT/LM03/C01/T1\n",
    "#•\tTier 2: LANDSAT/LM03/C01/T2\n",
    "\n",
    "#4.\tLandsat 4 MSS [Dataset availability: 1982-08-22 - 1993-12-14]\n",
    "#•\tTier 1: LANDSAT/LM04/C01/T1\n",
    "#•\tTier 2: LANDSAT/LM04/C01/T2\n",
    "\n",
    "#5.\tLandsat 4 Surface Reflectance [Dataset Availability: August 1982 - December 1993]\n",
    "#•\tTier 1: LANDSAT/LT04/C01/T1_SR\n",
    "#•\tTier 2: LANDSAT/LT04/C01/T2_SR\n",
    "\n",
    "#6.\tLandsat 4 Top of atmosphere [Dataset Availability: August 1982 - December 1993]\n",
    "#•\tTier 1: LANDSAT/LT04/C01/T1_TOA\n",
    "#•\tTier 2: LANDSAT/LT04/C01/T2_TOA\n",
    "\n",
    "#7.\tLandsat 4 Raw images [Dataset Availability: August 1982 - December 1993]\n",
    "#•\tTier 1(TM): LANDSAT/LT04/C01/T1\n",
    "#•\tTier 2(TM): LANDSAT/LT04/C01/T1\n",
    "\n",
    "#8.\tLandsat 5 MSS [Dataset availability: 1984-01-01 – 2012-05-05]\n",
    "#•\tTier 1: LANDSAT/LM05/C01/T1\n",
    "#•\tTier 2: LANDSAT/LM05/C01/T2\n",
    "\n",
    "#9.\tLandsat 5 Surface Reflectance [Dataset Availability: March 1984 - May 2012]\n",
    "#•\tTier 1: LANDSAT/LT05/C01/T1_SR\n",
    "#•\tTier 2: LANDSAT/LT05/C01/T2_SR\n",
    "\n",
    "#10.\tLandsat 5 Top of atmosphere [Dataset Availability: March 1984 - May 2012]\n",
    "#•\tTier 1: LANDSAT/LT05/C01/T1_TOA\n",
    "#•\tTier 2: LANDSAT/LT05/C01/T2_TOA\n",
    "\n",
    "#11.\tLandsat 5 Raw images [Dataset Availability: March 1984 - May 2012]\n",
    "#•\tTier 1(TM): LANDSAT/LT05/C01/T1\n",
    "#•\tTier 2(TM): LANDSAT/LT05/C01/T1\n",
    "\n",
    "#12.\tLandsat 7 Surface Reflectance [Dataset Availability: January 1999 - Present]\n",
    "#•\tTier 1: LANDSAT/LE07/C01/T1_SR\n",
    "#•\tTier 2: LANDSAT/LE07/C01/T2_SR\n",
    "\n",
    "#13.\tLandsat 7 Top of atmosphere [Dataset Availability: January 1999 – Present]\n",
    "#•\tTier 1: LANDSAT/LE07/C01/T1_TOA\n",
    "#•\tTier 2: LANDSAT/LE07/C01/T2_TOA\n",
    "#•\tTier 1 + Real time: LANDSAT/LE07/C01/T1_RT_TOA\n",
    "\n",
    "#14.\tLandsat 7 Raw images [Dataset Availability: January 1999 - Present]\n",
    "#•\tTier 1: LANDSAT/LE07/C01/T1\n",
    "#•\tTier 2: LANDSAT/LE07/C01/T2\n",
    "#•\tTier 1 + Real time: LANDSAT/LE07/C01/T1_RT\n",
    "\n",
    "#15.\tLandsat 8 Surface Reflectance [Dataset Availability: April 2013 - Present]\n",
    "#•\tTier 1: LANDSAT/LC08/C01/T1_SR\n",
    "#•\tTier 2: LANDSAT/LC08/C01/T2_SR\n",
    "\n",
    "#16.\tLandsat 8 Top of atmosphere [Dataset Availability: April 2013 – Present]\n",
    "#•\tTier 1: LANDSAT/LC08/C01/T1_TOA\n",
    "#•\tTier 2: LANDSAT/LC08/C01/T2_TOA\n",
    "#•\tTier 1 + Real time: LANDSAT/LC08/C01/T1_RT_TOA\n",
    "\n",
    "#17.\tLandsat 8 Raw images [Dataset Availability: April 2013 - Present]\n",
    "#•\tTier 1: LANDSAT/LC08/C01/T1\n",
    "#•\tTier 2: LANDSAT/LC08/C01/T2\n",
    "#•\tTier 1 + Real time: LANDSAT/LC08/C01/T1_RT\n",
    "\n",
    "\n",
    "#            COLLECTION 2:\n",
    "#1.\tLandsat 7 Surface Reflectance [Dataset Availability: 1999 – Present]\n",
    "#Tier 1: LANDSAT/LE07/C02/T1_L2\n",
    "\n",
    "#2.\tLandsat 8 Surface Reflectance [Dataset Availability: 2013 – Present]\n",
    "#Tier 1: LANDSAT/LC08/C02/T1_L2\n",
    "\n",
    "\n",
    "#                SENTINEL:\n",
    "        \n",
    "#1.\tSentinel-1 SAR GRD: C-band Synthetic Aperture Radar [Data availability: 2014 – Present]\n",
    "#Code: COPERNICUS/S1_GRD\n",
    "\n",
    "#2.\tSentinel-2 MSI: Multispectral Instrument (Surface Reflectance) [Data availability:  2017-03-28 – Present]\n",
    "#Code: COPERNICUS/S2_SR\n",
    "\n",
    "#3.\tSentinel-2 MSI: Multispectral Instrument (Top-Of-Atmosphere Reflectance) [Data availability:  2015-06-23– Present]\n",
    "#Code: COPERNICUS/S2\n"
   ]
  },
  {
   "cell_type": "code",
   "execution_count": 3,
   "id": "f8126356",
   "metadata": {},
   "outputs": [
    {
     "name": "stdout",
     "output_type": "stream",
     "text": [
      "What's the code for the satelitte that you want : COPERNICUS/S2\n"
     ]
    }
   ],
   "source": [
    "#Give details of the satellite data\n",
    "#For example for landsat 8, code = LANDSAT/LC08/C01/T1 filter date = starting = 2017-01-01, ending = 2017-12-31\n",
    "\n",
    "code = input(\"What's the code for the satelitte that you want : \")\n",
    "\n",
    "\n"
   ]
  },
  {
   "cell_type": "code",
   "execution_count": 4,
   "id": "385624e7",
   "metadata": {},
   "outputs": [
    {
     "name": "stdout",
     "output_type": "stream",
     "text": [
      "Starting From which time do you want satelitte data : 2017-01-01\n",
      "Ending to which time do you want satelitte data : 2017-12-31\n"
     ]
    }
   ],
   "source": [
    "date_from = input(\"Starting From which time do you want satelitte data : \")\n",
    "date_to = input(\"Ending to which time do you want satelitte data : \") \n",
    "    "
   ]
  },
  {
   "cell_type": "code",
   "execution_count": 127,
   "id": "ae7b3da9",
   "metadata": {},
   "outputs": [
    {
     "name": "stdout",
     "output_type": "stream",
     "text": [
      "Which band you want to take: B8\n"
     ]
    }
   ],
   "source": [
    "band = input(\"Which band you want to take: \")\n",
    "#for band 1 write B1 and for band 2 write B2 and so on for Landsat and Sentinel-2 and for sentinel-1 band names are VV,VH\n",
    "# we need blue, green,, red, 10m resolution NIR i.e B2, B3, B4, B8\n"
   ]
  },
  {
   "cell_type": "markdown",
   "id": "a8c500ca",
   "metadata": {},
   "source": [
    "https://www.usgs.gov/faqs/what-are-band-designations-landsat-satellites"
   ]
  },
  {
   "cell_type": "code",
   "execution_count": 128,
   "id": "0087736c",
   "metadata": {},
   "outputs": [
    {
     "data": {
      "application/vnd.jupyter.widget-view+json": {
       "model_id": "03ee97266f2b4186b76c75b6e11ee855",
       "version_major": 2,
       "version_minor": 0
      },
      "text/plain": [
       "Map(center=[20, 0], controls=(WidgetControl(options=['position', 'transparent_bg'], widget=HBox(children=(Togg…"
      ]
     },
     "metadata": {},
     "output_type": "display_data"
    }
   ],
   "source": [
    "Map=geemap.Map()\n",
    "Map\n"
   ]
  },
  {
   "cell_type": "code",
   "execution_count": 145,
   "id": "b79fdd44",
   "metadata": {},
   "outputs": [
    {
     "name": "stdout",
     "output_type": "stream",
     "text": [
      "longitude of first corner:\n"
     ]
    }
   ],
   "source": [
    "# Draw any shapes on the map using the Drawing tools before executing this code block(Bounding box)\n",
    "feature = Map.draw_last_feature\n",
    "\n",
    "if feature is None:\n",
    "    try:\n",
    "        geom=ee.Geometry.Polygon(\n",
    "            [[[float(input('longitude of first corner:')), float(input('latitude of first corner:'))],\n",
    "              [float(input('longitude of second corner:')), float(input('latitude of second corner:'))],\n",
    "              [float(input('longitude of third corner:')), float(input('latitude of third corner:'))], \n",
    "              [float(input('longitude of fourth corner:')), float(input('latitude of fourth corner:'))],\n",
    "              [float(input('longitude of first corner:')), float(input('latitude of first corner:'))]]])\n",
    "        feature = ee.Feature(geom, {})\n",
    "    #if user has not given any input then we have taken IIT Roorkee coordinates as default   \n",
    "    except:\n",
    "        \n",
    "        #geom1 = ee.Geometry.Polygon([[[100.27778515,16.72163592], [100.2964911,16.72163592], [100.2964911, 16.80494113], [100.27778515,16.80494113], [100.27778515,16.72163592]]])\n",
    "        #feature = ee.Feature(geom1, {})\n",
    "        \n",
    "        #geom2 = ee.Geometry.Polygon([[[100.2964911,16.72163592], [100.315197,16.72163592], [100.315197, 16.80494113], [100.2964911,16.80494113], [100.2964911,16.72163592]]])\n",
    "        #feature = ee.Feature(geom2, {})\n",
    "\n",
    "        #geom3 = ee.Geometry.Polygon([[[100.315197,16.72163592], [100.3339029,16.72163592], [100.3339029, 16.80494113], [100.315197,16.80494113], [100.315197,16.72163592]]])\n",
    "        #feature = ee.Feature(geom3, {})\n",
    "\n",
    "        #geom4 = ee.Geometry.Polygon([[[100.3339029,16.72163592], [100.3526088,16.72163592], [100.3526088, 16.80494113], [100.3339029,16.80494113], [100.3339029,16.72163592]]])\n",
    "        #feature = ee.Feature(geom4, {})\n",
    "\n",
    "        #geom5 = ee.Geometry.Polygon([[[100.3526088,16.72163592], [100.3713148,16.72163592], [100.3713148, 16.80494113], [100.3526088,16.80494113], [100.3526088,16.72163592]]])\n",
    "        #feature = ee.Feature(geom5, {})\n",
    "\n",
    "        geom6 = ee.Geometry.Polygon([[[100.3713148,16.72163592], [100.3900207,16.72163592], [100.3900207, 16.80494113], [100.3713148,16.80494113], [100.3713148,16.72163592]]])\n",
    "        feature = ee.Feature(geom6, {})\n",
    "\n",
    "\n",
    "\n",
    "loc = feature.geometry()\n",
    "\n",
    "loc = feature.geometry()\n",
    "#print(loc)\n"
   ]
  },
  {
   "cell_type": "markdown",
   "id": "c44943b9",
   "metadata": {},
   "source": [
    "##### AREA 6: tried  getting images for COPERNICUS/S2_SR for B2, B3, B4, B8 getting 0 images\n",
    "##### same for area 5, area 4, area 3, area 2, area 1\n",
    "dusre bands ke liye bhi nahi aa rahi"
   ]
  },
  {
   "cell_type": "code",
   "execution_count": 146,
   "id": "8be85d6e",
   "metadata": {},
   "outputs": [],
   "source": [
    "#extracting image collection of particular area(i.e. bounding box) for particular time period\n",
    "collection = ee.ImageCollection(code).filterBounds(loc).filterDate(date_from,date_to) \n",
    "#print(collection)\n",
    "#print(type(collection))\n"
   ]
  },
  {
   "cell_type": "code",
   "execution_count": 147,
   "id": "cf496c8d",
   "metadata": {
    "scrolled": true
   },
   "outputs": [
    {
     "name": "stdout",
     "output_type": "stream",
     "text": [
      "Total number of image:58\n"
     ]
    }
   ],
   "source": [
    "T =len(collection.aggregate_array('system:index').getInfo())\n",
    "print(\"Total number of image:\"+str(T))\n",
    "#print(type(collection.aggregate_array('system:index').getInfo()))\n",
    "#print(type(collection.aggregate_array('system:index').getInfo()[1]))\n",
    "#print(collection.aggregate_array('system:index').getInfo())\n",
    "#print(collection.aggregate_array('system:index').getInfo()[1])\n",
    "\n",
    "#collection.aggregate_array('system:index').getInfo() gives list of names of images"
   ]
  },
  {
   "cell_type": "code",
   "execution_count": 148,
   "id": "7dda04a5",
   "metadata": {
    "scrolled": true
   },
   "outputs": [
    {
     "name": "stdout",
     "output_type": "stream",
     "text": [
      "Shape of image is rectangle\n",
      "number of pixel in x-direction:924\n",
      "number of pixel in y-direction:207\n"
     ]
    }
   ],
   "source": [
    "l=collection.aggregate_array('system:index').getInfo()[0]\n",
    "im=ee.Image(code+'/'+l) \\\n",
    "    .select([band]) \n",
    "#print(im)\n",
    "rg_img = geemap.ee_to_numpy(im, region=loc)\n",
    "#print(rg_img)\n",
    "\n",
    "size= rg_img.shape \n",
    "\n",
    "#print(size)\n",
    "#print(rg_img[:, :, 0:3])\n",
    "\n",
    "# rg_img_test = (255*((rg_img[:, :, 0:3] - 100)/3500)).astype('uint8')\n",
    "\n",
    "# print(rg_img_test)\n",
    "# plt.imshow(rg_img_test)\n",
    "# plt.show()\n",
    "    \n",
    "print(\"Shape of image is rectangle\"+'\\n'+\"number of pixel in x-direction:\"+str(size[0])+'\\n'+\"number of pixel in y-direction:\"+str(size[1]) )\n"
   ]
  },
  {
   "cell_type": "code",
   "execution_count": 149,
   "id": "627226cb",
   "metadata": {},
   "outputs": [
    {
     "name": "stdout",
     "output_type": "stream",
     "text": [
      "which pixel you want in x-direction:200\n",
      "which pixel you want in y-direction:200\n"
     ]
    }
   ],
   "source": [
    "x=int(input('which pixel you want in x-direction:')) \n",
    "y=int(input('which pixel you want in y-direction:'))\n"
   ]
  },
  {
   "cell_type": "code",
   "execution_count": 150,
   "id": "ead8c156",
   "metadata": {},
   "outputs": [],
   "source": [
    "#To show map accessing from google earth\n",
    "Map=geemap.Map()\n",
    "\n",
    "#rgbVis = {\n",
    "#  'min': 0.0,\n",
    "#  'max': 6000.0,\n",
    "  \n",
    "#}\n",
    "Map.centerObject(collection,8)\n",
    "#Map.centerObject(object, zoom, onComplete)"
   ]
  },
  {
   "cell_type": "code",
   "execution_count": 151,
   "id": "074315f6",
   "metadata": {
    "scrolled": true
   },
   "outputs": [
    {
     "data": {
      "application/vnd.jupyter.widget-view+json": {
       "model_id": "b115e1a642bf4211931f146d4c7a500d",
       "version_major": 2,
       "version_minor": 0
      },
      "text/plain": [
       "Map(center=[16.68449719279183, 100.44811673919142], controls=(WidgetControl(options=['position', 'transparent_…"
      ]
     },
     "metadata": {},
     "output_type": "display_data"
    }
   ],
   "source": [
    "Map"
   ]
  },
  {
   "cell_type": "code",
   "execution_count": 152,
   "id": "a50dbf24",
   "metadata": {},
   "outputs": [
    {
     "name": "stdout",
     "output_type": "stream",
     "text": [
      "COPERNICUS/S2/20170120T035051_20170120T040153_T47QPU\n",
      "COPERNICUS/S2/20170127T034011_20170127T034620_T47QPU\n",
      "COPERNICUS/S2/20170209T034911_20170209T035553_T47QPU\n",
      "COPERNICUS/S2/20170219T034801_20170219T035623_T47QPU\n",
      "COPERNICUS/S2/20170226T033711_20170226T035217_T47QPU\n",
      "COPERNICUS/S2/20170311T034541_20170311T035616_T47QPU\n",
      "COPERNICUS/S2/20170318T033531_20170318T034637_T47QPU\n",
      "COPERNICUS/S2/20170331T034531_20170331T035326_T47QPU\n",
      "COPERNICUS/S2/20170407T033531_20170407T034332_T47QPU\n",
      "COPERNICUS/S2/20170420T034541_20170420T040250_T47QPU\n",
      "COPERNICUS/S2/20170427T033541_20170427T034337_T47QPU\n",
      "COPERNICUS/S2/20170510T034541_20170510T035634_T47QPU\n",
      "COPERNICUS/S2/20170517T033541_20170517T034338_T47QPU\n",
      "COPERNICUS/S2/20170530T034541_20170530T035637_T47QPU\n",
      "COPERNICUS/S2/20170606T033541_20170606T034503_T47QPU\n",
      "COPERNICUS/S2/20170619T034531_20170619T035540_T47QPU\n",
      "COPERNICUS/S2/20170626T033531_20170626T034333_T47QPU\n",
      "COPERNICUS/S2/20170709T034531_20170709T035631_T47QPU\n",
      "COPERNICUS/S2/20170711T033539_20170711T034335_T47QPU\n",
      "COPERNICUS/S2/20170716T033541_20170716T034335_T47QPU\n",
      "COPERNICUS/S2/20170724T034539_20170724T035631_T47QPU\n",
      "COPERNICUS/S2/20170729T034541_20170729T035636_T47QPU\n",
      "COPERNICUS/S2/20170731T033539_20170731T034334_T47QPU\n",
      "COPERNICUS/S2/20170805T033541_20170805T034546_T47QPU\n",
      "COPERNICUS/S2/20170813T034529_20170813T035629_T47QPU\n",
      "COPERNICUS/S2/20170818T034541_20170818T040254_T47QPU\n",
      "COPERNICUS/S2/20170820T033529_20170820T034331_T47QPU\n",
      "COPERNICUS/S2/20170825T033541_20170825T034545_T47QPU\n",
      "COPERNICUS/S2/20170902T034529_20170902T035625_T47QPU\n",
      "COPERNICUS/S2/20170907T034531_20170907T035630_T47QPU\n",
      "COPERNICUS/S2/20170909T033529_20170909T034537_T47QPU\n",
      "COPERNICUS/S2/20170914T033531_20170914T034542_T47QPU\n",
      "COPERNICUS/S2/20170922T034519_20170922T035618_T47QPU\n",
      "COPERNICUS/S2/20170927T034531_20170927T035628_T47QPU\n",
      "COPERNICUS/S2/20170929T033519_20170929T034529_T47QPU\n",
      "COPERNICUS/S2/20171004T033601_20171004T034610_T47QPU\n",
      "COPERNICUS/S2/20171012T034649_20171012T035743_T47QPU\n",
      "COPERNICUS/S2/20171017T034731_20171017T040104_T47QPU\n",
      "COPERNICUS/S2/20171019T033729_20171019T034744_T47QPU\n",
      "COPERNICUS/S2/20171024T033821_20171024T034908_T47QPU\n",
      "COPERNICUS/S2/20171101T034859_20171101T035556_T47QPU\n",
      "COPERNICUS/S2/20171106T034931_20171106T040204_T47QPU\n",
      "COPERNICUS/S2/20171108T033929_20171108T034608_T47QPU\n",
      "COPERNICUS/S2/20171111T034949_20171111T035153_T47QPU\n",
      "COPERNICUS/S2/20171113T034011_20171113T035250_T47QPU\n",
      "COPERNICUS/S2/20171118T034019_20171118T034335_T47QPU\n",
      "COPERNICUS/S2/20171121T035039_20171121T035736_T47QPU\n",
      "COPERNICUS/S2/20171126T035101_20171126T035639_T47QPU\n",
      "COPERNICUS/S2/20171128T034059_20171128T034620_T47QPU\n",
      "COPERNICUS/S2/20171201T035109_20171201T040255_T47QPU\n",
      "COPERNICUS/S2/20171203T034121_20171203T035302_T47QPU\n",
      "COPERNICUS/S2/20171208T034119_20171208T034120_T47QPU\n",
      "COPERNICUS/S2/20171211T035129_20171211T035832_T47QPU\n",
      "COPERNICUS/S2/20171216T035141_20171216T035747_T47QPU\n",
      "COPERNICUS/S2/20171218T034139_20171218T034658_T47QPU\n",
      "COPERNICUS/S2/20171221T035139_20171221T035139_T47QPU\n",
      "COPERNICUS/S2/20171223T034141_20171223T034458_T47QPU\n",
      "COPERNICUS/S2/20171228T034139_20171228T034135_T47QPU\n"
     ]
    },
    {
     "data": {
      "image/png": "[encoded data removed]",
      "text/plain": [
       "<Figure size 432x288 with 1 Axes>"
      ]
     },
     "metadata": {
      "needs_background": "light"
     },
     "output_type": "display_data"
    }
   ],
   "source": [
    "date=[]  \n",
    "value=[]\n",
    "\n",
    "import cv2\n",
    "import os\n",
    "\n",
    "directory = r'E:\\acads\\6th sem\\Practical Problem CEN-300\\Final images\\B8\\area6'\n",
    "os.chdir(directory)\n",
    "\n",
    "for i in collection.aggregate_array('system:index').getInfo():\n",
    "    \n",
    "    if code[:7]== 'LANDSAT':\n",
    "        date.append(i[-8:])\n",
    "    elif code[:13]=='COPERNICUS/S2':\n",
    "        date.append(i[:8])\n",
    "    \n",
    "    elif code=='COPERNICUS/S1_GRD':\n",
    "        date.append(i[17:25])\n",
    "        \n",
    "    j=i\n",
    "    i=code+'/'+i\n",
    "    print(i)\n",
    "    img = ee.Image(i) \\\n",
    "    .select([band]) \n",
    "    Map.addLayer(img,'', str(img))\n",
    "    \n",
    "    img_show = geemap.ee_to_numpy(img, region=loc)\n",
    "    img_final=(255*((img_show[:, :, 0:1] - 100)/3500)).astype('uint8')\n",
    "    plt.imshow(img_final)\n",
    "    \n",
    "    filename= str(j)+'.png'\n",
    "    #plt.show()\n",
    "    plt.savefig(filename, bbox_inches='tight')\n",
    "    #plt.close()\n",
    "    \n",
    "    \n",
    "    \n",
    "    #filename= '/'+str(j)+'.png'    \n",
    "    #cv2.imwrite('E:/acads/6th sem/Practical Problem CEN-300/images/area 6' + filename, cv2.cvtColor(img_final, cv2.COLOR_RGB2BGR))\n",
    "    #print(cv2.imread('E:/acads/6th sem/Practical Problem CEN-300/images/area 6' + filename))\n",
    "        \n",
    "    #break\n",
    "    \n",
    "    \n",
    "\n",
    "#     plt.imsave(filename,img_final)\n",
    "    \n",
    "    \n",
    "    #print(img_show)\n",
    "\n",
    "\n",
    "#     value.append(img_final[x][y][0])\n",
    "#     print(img_final[x][y])"
   ]
  },
  {
   "cell_type": "markdown",
   "id": "1ac65457",
   "metadata": {},
   "source": [
    "### getting error for area1,2,3\n",
    "###### Image.sampleRectangle: Fully masked pixels / pixels outside of the image footprint when sampling band 'B2' with no default value set. Note that calling sampleRectangle() on an image after ee.Image.clip() may result in a sampling bounding box outside the geometry passed to clip()."
   ]
  },
  {
   "cell_type": "code",
   "execution_count": 38,
   "id": "9c838772",
   "metadata": {},
   "outputs": [
    {
     "name": "stdout",
     "output_type": "stream",
     "text": [
      "<class 'numpy.uint8'>\n"
     ]
    },
    {
     "data": {
      "image/png": "[encoded data removed]",
      "text/plain": [
       "<Figure size 1440x576 with 1 Axes>"
      ]
     },
     "metadata": {
      "needs_background": "light"
     },
     "output_type": "display_data"
    }
   ],
   "source": [
    "print(type(value[0]))\n",
    "fig = plt.figure(1, figsize=(20, 8))\n",
    "\n",
    "\n",
    "plt.plot(date, value, label='time-series',linewidth=2)\n",
    "\n",
    "# Add a legend\n",
    "plt.legend()\n",
    "\n",
    "# Show the plot\n",
    "plt.show()"
   ]
  },
  {
   "cell_type": "code",
   "execution_count": null,
   "id": "e4cd8745",
   "metadata": {},
   "outputs": [],
   "source": []
  }
 ],
 "metadata": {
  "kernelspec": {
   "display_name": "Python 3",
   "language": "python",
   "name": "python3"
  },
  "language_info": {
   "codemirror_mode": {
    "name": "ipython",
    "version": 3
   },
   "file_extension": ".py",
   "mimetype": "text/x-python",
   "name": "python",
   "nbconvert_exporter": "python",
   "pygments_lexer": "ipython3",
   "version": "3.9.5"
  }
 },
 "nbformat": 4,
 "nbformat_minor": 5
}
