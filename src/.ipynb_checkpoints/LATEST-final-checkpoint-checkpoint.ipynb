{
 "cells": [
  {
   "cell_type": "code",
   "execution_count": null,
   "id": "d310db29",
   "metadata": {},
   "outputs": [],
   "source": [
    "import geemap\n",
    "import numpy as np\n",
    "import ee\n",
    "ee.Initialize()\n",
    "import matplotlib.pyplot as plt #to plot the graph we have imported matplotlib.pyplot library"
   ]
  },
  {
   "cell_type": "code",
   "execution_count": null,
   "id": "cb1d6637",
   "metadata": {},
   "outputs": [],
   "source": [
    "#Given below are the codes codes of some satellites.\n",
    "#LANDSAT:\n",
    "#Landsat Satellite data is divided into two collections:\n",
    "#Collection 1:\n",
    "#Collection 1 contains all Level-1 data acquired since 1972 to present from Landsat 1-8.\n",
    "\n",
    "#Collection 2:\n",
    "#Collection 2 is the substantial improvement in the absolute geolocation accuracy of the global ground reference dataset used in the Landsat Level-1 data processing flow. Additionally, Collection 2 includes updated global digital elevation modeling sources and calibration and validation updates as well as global Level-2 surface reflectance and surface temperature scene-based products from 1982 to present.\n",
    "\n",
    "#In a particular collection, Landsat data is produced in 3 tiers (categories) for each satellite:\n",
    "#Tier 1 (T1) - Data that meets geometric and radiometric quality requirements\n",
    "#Tier 2 (T2) - Data that doesn't meet the Tier 1 requirements\n",
    "#Real Time (RT) - Data that hasn't yet been evaluated (it takes as much as a month).\n",
    "\n",
    "#Typical code of a landsat satellite:\n",
    "#        LANDSAT/(Satellite)/(collection)/(Tier)\n",
    "\n",
    "#FOLLOWING ARE THE CODES FOR DIFFERENT LANDSAT:\n",
    "#            COLLECTION 1:\n",
    "#1.\tLandsat 1 MSS [Dataset availability: 1972-07-23 - 1978-01-07]\n",
    "#•\tTier 1: LANDSAT/LM01/C01/T1\n",
    "#•\tTier 2: LANDSAT/LM01/C01/T2\n",
    "\n",
    "#2.\tLandsat 2 MSS [Dataset availability: 1975-01-22 - 1982-02-26]\n",
    "#•\tTier 1: LANDSAT/LM02/C01/T1\n",
    "#•\tTier 2: LANDSAT/LM02/C01/T2\n",
    "\n",
    "#3.\tLandsat 3 MSS [Dataset availability: 1978-03-05 - 1983-03-31]\n",
    "#•\tTier 1: LANDSAT/LM03/C01/T1\n",
    "#•\tTier 2: LANDSAT/LM03/C01/T2\n",
    "\n",
    "#4.\tLandsat 4 MSS [Dataset availability: 1982-08-22 - 1993-12-14]\n",
    "#•\tTier 1: LANDSAT/LM04/C01/T1\n",
    "#•\tTier 2: LANDSAT/LM04/C01/T2\n",
    "\n",
    "#5.\tLandsat 4 Surface Reflectance [Dataset Availability: August 1982 - December 1993]\n",
    "#•\tTier 1: LANDSAT/LT04/C01/T1_SR\n",
    "#•\tTier 2: LANDSAT/LT04/C01/T2_SR\n",
    "\n",
    "#6.\tLandsat 4 Top of atmosphere [Dataset Availability: August 1982 - December 1993]\n",
    "#•\tTier 1: LANDSAT/LT04/C01/T1_TOA\n",
    "#•\tTier 2: LANDSAT/LT04/C01/T2_TOA\n",
    "\n",
    "#7.\tLandsat 4 Raw images [Dataset Availability: August 1982 - December 1993]\n",
    "#•\tTier 1(TM): LANDSAT/LT04/C01/T1\n",
    "#•\tTier 2(TM): LANDSAT/LT04/C01/T1\n",
    "\n",
    "#8.\tLandsat 5 MSS [Dataset availability: 1984-01-01 – 2012-05-05]\n",
    "#•\tTier 1: LANDSAT/LM05/C01/T1\n",
    "#•\tTier 2: LANDSAT/LM05/C01/T2\n",
    "\n",
    "#9.\tLandsat 5 Surface Reflectance [Dataset Availability: March 1984 - May 2012]\n",
    "#•\tTier 1: LANDSAT/LT05/C01/T1_SR\n",
    "#•\tTier 2: LANDSAT/LT05/C01/T2_SR\n",
    "\n",
    "#10.\tLandsat 5 Top of atmosphere [Dataset Availability: March 1984 - May 2012]\n",
    "#•\tTier 1: LANDSAT/LT05/C01/T1_TOA\n",
    "#•\tTier 2: LANDSAT/LT05/C01/T2_TOA\n",
    "\n",
    "#11.\tLandsat 5 Raw images [Dataset Availability: March 1984 - May 2012]\n",
    "#•\tTier 1(TM): LANDSAT/LT05/C01/T1\n",
    "#•\tTier 2(TM): LANDSAT/LT05/C01/T1\n",
    "\n",
    "#12.\tLandsat 7 Surface Reflectance [Dataset Availability: January 1999 - Present]\n",
    "#•\tTier 1: LANDSAT/LE07/C01/T1_SR\n",
    "#•\tTier 2: LANDSAT/LE07/C01/T2_SR\n",
    "\n",
    "#13.\tLandsat 7 Top of atmosphere [Dataset Availability: January 1999 – Present]\n",
    "#•\tTier 1: LANDSAT/LE07/C01/T1_TOA\n",
    "#•\tTier 2: LANDSAT/LE07/C01/T2_TOA\n",
    "#•\tTier 1 + Real time: LANDSAT/LE07/C01/T1_RT_TOA\n",
    "\n",
    "#14.\tLandsat 7 Raw images [Dataset Availability: January 1999 - Present]\n",
    "#•\tTier 1: LANDSAT/LE07/C01/T1\n",
    "#•\tTier 2: LANDSAT/LE07/C01/T2\n",
    "#•\tTier 1 + Real time: LANDSAT/LE07/C01/T1_RT\n",
    "\n",
    "#15.\tLandsat 8 Surface Reflectance [Dataset Availability: April 2013 - Present]\n",
    "#•\tTier 1: LANDSAT/LC08/C01/T1_SR\n",
    "#•\tTier 2: LANDSAT/LC08/C01/T2_SR\n",
    "\n",
    "#16.\tLandsat 8 Top of atmosphere [Dataset Availability: April 2013 – Present]\n",
    "#•\tTier 1: LANDSAT/LC08/C01/T1_TOA\n",
    "#•\tTier 2: LANDSAT/LC08/C01/T2_TOA\n",
    "#•\tTier 1 + Real time: LANDSAT/LC08/C01/T1_RT_TOA\n",
    "\n",
    "#17.\tLandsat 8 Raw images [Dataset Availability: April 2013 - Present]\n",
    "#•\tTier 1: LANDSAT/LC08/C01/T1\n",
    "#•\tTier 2: LANDSAT/LC08/C01/T2\n",
    "#•\tTier 1 + Real time: LANDSAT/LC08/C01/T1_RT\n",
    "\n",
    "\n",
    "#            COLLECTION 2:\n",
    "#1.\tLandsat 7 Surface Reflectance [Dataset Availability: 1999 – Present]\n",
    "#Tier 1: LANDSAT/LE07/C02/T1_L2\n",
    "\n",
    "#2.\tLandsat 8 Surface Reflectance [Dataset Availability: 2013 – Present]\n",
    "#Tier 1: LANDSAT/LC08/C02/T1_L2\n",
    "\n",
    "\n",
    "#                SENTINEL:\n",
    "        \n",
    "#1.\tSentinel-1 SAR GRD: C-band Synthetic Aperture Radar [Data availability: 2014 – Present]\n",
    "#Code: COPERNICUS/S1_GRD\n",
    "\n",
    "#2.\tSentinel-2 MSI: Multispectral Instrument (Surface Reflectance) [Data availability:  2017-03-28 – Present]\n",
    "#Code: COPERNICUS/S2_SR\n",
    "\n",
    "#3.\tSentinel-2 MSI: Multispectral Instrument (Top-Of-Atmosphere Reflectance) [Data availability:  2015-06-23– Present]\n",
    "#Code: COPERNICUS/S2\n"
   ]
  },
  {
   "cell_type": "code",
   "execution_count": null,
   "id": "f8126356",
   "metadata": {},
   "outputs": [],
   "source": [
    "#Give details of the satellite data\n",
    "#For example for landsat 8, code = LANDSAT/LC08/C01/T1 filter date = starting = 2017-01-01, ending = 2017-12-31\n",
    "\n",
    "code = input(\"What's the code for the satelitte that you want : \")\n"
   ]
  },
  {
   "cell_type": "code",
   "execution_count": null,
   "id": "385624e7",
   "metadata": {},
   "outputs": [],
   "source": [
    "date_from = input(\"Starting From which time do you want satelitte data : \")\n",
    "date_to = input(\"Ending to which time do you want satelitte data : \") \n",
    "    "
   ]
  },
  {
   "cell_type": "code",
   "execution_count": null,
   "id": "ae7b3da9",
   "metadata": {},
   "outputs": [],
   "source": [
    "band = input(\"Which band you want to take: \")\n",
    "#for band 1 write B1 and for band 2 write B2 and so on for Landsat and Sentinel-2 and for sentinel-1 band names are VV,VH"
   ]
  },
  {
   "cell_type": "code",
   "execution_count": null,
   "id": "0087736c",
   "metadata": {},
   "outputs": [],
   "source": [
    "Map=geemap.Map()\n",
    "Map"
   ]
  },
  {
   "cell_type": "code",
   "execution_count": null,
   "id": "b79fdd44",
   "metadata": {},
   "outputs": [],
   "source": [
    "# Draw any shapes on the map using the Drawing tools before executing this code block(Bounding box)\n",
    "feature = Map.draw_last_feature\n",
    "\n",
    "if feature is None:\n",
    "    try:\n",
    "        geom=ee.Geometry.Polygon(\n",
    "            [[[float(input('longitude of first corner:')), float(input('latitude of first corner:'))],\n",
    "              [float(input('longitude of second corner:')), float(input('latitude of second corner:'))],\n",
    "              [float(input('longitude of third corner:')), float(input('latitude of third corner:'))], \n",
    "              [float(input('longitude of fourth corner:')), float(input('latitude of fourth corner:'))],\n",
    "              [float(input('longitude of first corner:')), float(input('latitude of first corner:'))]]])\n",
    "        feature = ee.Feature(geom, {})\n",
    "    #if user has not given any input then we have taken IIT Roorkee coordinates as default   \n",
    "    except:\n",
    "        geom = ee.Geometry.Polygon([[[77.8608, 29.8733], [77.9269, 29.8737], [77.9296, 29.8246], [77.8653, 29.8231], [77.8608, 29.8733]]])\n",
    "        feature = ee.Feature(geom, {})\n",
    "\n",
    "loc = feature.geometry()\n"
   ]
  },
  {
   "cell_type": "code",
   "execution_count": null,
   "id": "8be85d6e",
   "metadata": {},
   "outputs": [],
   "source": [
    "#extracting image collection of particular area(i.e. bounding box) for particular time period\n",
    "collection = ee.ImageCollection(code).filterBounds(loc).filterDate(date_from,date_to) \n",
    "#print(collection)\n"
   ]
  },
  {
   "cell_type": "code",
   "execution_count": null,
   "id": "cf496c8d",
   "metadata": {},
   "outputs": [],
   "source": [
    "T =len(collection.aggregate_array('system:index').getInfo())\n",
    "print(\"Total number of image:\"+str(T))\n",
    "#print(collection.aggregate_array('system:index').getInfo())"
   ]
  },
  {
   "cell_type": "code",
   "execution_count": null,
   "id": "7dda04a5",
   "metadata": {},
   "outputs": [],
   "source": [
    "l=collection.aggregate_array('system:index').getInfo()[1]\n",
    "im=ee.Image(code+'/'+l) \\\n",
    "    .select([band]) \n",
    "#print(im)\n",
    "rg_img = geemap.ee_to_numpy(im, region=loc)\n",
    "size= rg_img.shape    \n",
    "    \n",
    "print(\"Shape of image is rectangle\"+'\\n'+\"number of pixel in x-direction:\"+str(size[0])+'\\n'+\"number of pixel in y-direction:\"+str(size[1]) )\n"
   ]
  },
  {
   "cell_type": "code",
   "execution_count": null,
   "id": "627226cb",
   "metadata": {},
   "outputs": [],
   "source": [
    "x=int(input('which pixel you want in x-direction:')) \n",
    "y=int(input('which pixel you want in y-direction:'))\n"
   ]
  },
  {
   "cell_type": "code",
   "execution_count": null,
   "id": "ead8c156",
   "metadata": {},
   "outputs": [],
   "source": [
    "#To show map accessing from google earth\n",
    "Map=geemap.Map()\n",
    "\n",
    "#rgbVis = {\n",
    "#  'min': 0.0,\n",
    "#  'max': 6000.0,\n",
    "  \n",
    "#}\n",
    "Map.centerObject(collection,8)"
   ]
  },
  {
   "cell_type": "code",
   "execution_count": null,
   "id": "074315f6",
   "metadata": {},
   "outputs": [],
   "source": [
    "Map"
   ]
  },
  {
   "cell_type": "code",
   "execution_count": null,
   "id": "a50dbf24",
   "metadata": {},
   "outputs": [],
   "source": [
    "date=[]  \n",
    "value=[]\n",
    "for i in collection.aggregate_array('system:index').getInfo():\n",
    "    \n",
    "    if code[:7]== 'LANDSAT':\n",
    "        date.append(i[-8:])\n",
    "    elif code[:13]=='COPERNICUS/S2':\n",
    "        date.append(i[:8])\n",
    "    \n",
    "    elif code=='COPERNICUS/S1_GRD':\n",
    "        date.append(i[17:25])\n",
    "        \n",
    "        \n",
    "    i=code+'/'+i\n",
    "    print(i)\n",
    "    img = ee.Image(i) \\\n",
    "    .select([band]) \n",
    "    Map.addLayer(img,'', str(img))\n",
    "    \n",
    "    img_show = geemap.ee_to_numpy(img, region=loc)\n",
    "    img_final=(255*((img_show[:, :, 0:1] - 100)/3500)).astype('uint8')\n",
    "    plt.imshow(img_final)\n",
    "    plt.show()\n",
    "\n",
    "\n",
    "    value.append(img_final[x][y][0])"
   ]
  },
  {
   "cell_type": "code",
   "execution_count": null,
   "id": "9c838772",
   "metadata": {},
   "outputs": [],
   "source": [
    "fig = plt.figure(1, figsize=(20, 8))\n",
    "\n",
    "\n",
    "plt.plot(date, value, label='time-series',linewidth=2)\n",
    "\n",
    "# Add a legend\n",
    "plt.legend()\n",
    "\n",
    "# Show the plot\n",
    "plt.show()"
   ]
  },
  {
   "cell_type": "code",
   "execution_count": null,
   "id": "e4cd8745",
   "metadata": {},
   "outputs": [],
   "source": []
  }
 ],
 "metadata": {
  "kernelspec": {
   "display_name": "Python 3",
   "language": "python",
   "name": "python3"
  },
  "language_info": {
   "codemirror_mode": {
    "name": "ipython",
    "version": 3
   },
   "file_extension": ".py",
   "mimetype": "text/x-python",
   "name": "python",
   "nbconvert_exporter": "python",
   "pygments_lexer": "ipython3",
   "version": "3.9.5"
  }
 },
 "nbformat": 4,
 "nbformat_minor": 5
}
